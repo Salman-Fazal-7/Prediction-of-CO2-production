{
  "nbformat": 4,
  "nbformat_minor": 0,
  "metadata": {
    "colab": {
      "provenance": [],
      "authorship_tag": "ABX9TyP57HAQgOSVL+HFlSGro1y7",
      "include_colab_link": true
    },
    "kernelspec": {
      "name": "python3",
      "display_name": "Python 3"
    },
    "language_info": {
      "name": "python"
    }
  },
  "cells": [
    {
      "cell_type": "markdown",
      "metadata": {
        "id": "view-in-github",
        "colab_type": "text"
      },
      "source": [
        "<a href=\"https://colab.research.google.com/github/Salman-Fazal-7/Prediction-of-co2-production/blob/main/CO2_POLY_Regression.ipynb\" target=\"_parent\"><img src=\"https://colab.research.google.com/assets/colab-badge.svg\" alt=\"Open In Colab\"/></a>"
      ]
    },
    {
      "cell_type": "markdown",
      "metadata": {
        "id": "vN99YjPTDena"
      },
      "source": [
        "# Polynomial Regression"
      ]
    },
    {
      "cell_type": "markdown",
      "metadata": {
        "id": "ZIx_naXnDyHd"
      },
      "source": [
        "## Importing the libraries"
      ]
    },
    {
      "cell_type": "code",
      "execution_count": 1,
      "metadata": {
        "id": "FjnmdyPLD2tS"
      },
      "outputs": [],
      "source": [
        "import numpy as np\n",
        "import matplotlib.pyplot as plt\n",
        "import pandas as pd"
      ]
    },
    {
      "cell_type": "markdown",
      "metadata": {
        "id": "6c8YExmOD5x5"
      },
      "source": [
        "## Importing the dataset"
      ]
    },
    {
      "cell_type": "code",
      "source": [
        "dataset = pd.read_csv(\"/content/global_co2.csv\")\n",
        "dataset"
      ],
      "metadata": {
        "colab": {
          "base_uri": "https://localhost:8080/",
          "height": 424
        },
        "collapsed": true,
        "id": "gyXiiHP_2hra",
        "outputId": "38b86d68-9b49-439b-f2f4-54d5024f6564"
      },
      "execution_count": 2,
      "outputs": [
        {
          "output_type": "execute_result",
          "data": {
            "text/plain": [
              "     Year  Total  Gas Fuel  Liquid Fuel  Solid Fuel  Cement  Gas Flaring  \\\n",
              "0    1751      3         0            0           3       0            0   \n",
              "1    1752      3         0            0           3       0            0   \n",
              "2    1753      3         0            0           3       0            0   \n",
              "3    1754      3         0            0           3       0            0   \n",
              "4    1755      3         0            0           3       0            0   \n",
              "..    ...    ...       ...          ...         ...     ...          ...   \n",
              "255  2006   8370      1525         3089        3339     356           61   \n",
              "256  2007   8566      1572         3081        3464     382           68   \n",
              "257  2008   8783      1631         3122        3571     388           71   \n",
              "258  2009   8740      1585         3056        3620     413           66   \n",
              "259  2010   9167      1702         3114        3842     450           59   \n",
              "\n",
              "     Per Capita  \n",
              "0           NaN  \n",
              "1           NaN  \n",
              "2           NaN  \n",
              "3           NaN  \n",
              "4           NaN  \n",
              "..          ...  \n",
              "255        1.27  \n",
              "256        1.28  \n",
              "257        1.30  \n",
              "258        1.28  \n",
              "259        1.33  \n",
              "\n",
              "[260 rows x 8 columns]"
            ],
            "text/html": [
              "\n",
              "  <div id=\"df-e286f72c-9c0b-4cfd-aa65-425b6d4d6ed5\" class=\"colab-df-container\">\n",
              "    <div>\n",
              "<style scoped>\n",
              "    .dataframe tbody tr th:only-of-type {\n",
              "        vertical-align: middle;\n",
              "    }\n",
              "\n",
              "    .dataframe tbody tr th {\n",
              "        vertical-align: top;\n",
              "    }\n",
              "\n",
              "    .dataframe thead th {\n",
              "        text-align: right;\n",
              "    }\n",
              "</style>\n",
              "<table border=\"1\" class=\"dataframe\">\n",
              "  <thead>\n",
              "    <tr style=\"text-align: right;\">\n",
              "      <th></th>\n",
              "      <th>Year</th>\n",
              "      <th>Total</th>\n",
              "      <th>Gas Fuel</th>\n",
              "      <th>Liquid Fuel</th>\n",
              "      <th>Solid Fuel</th>\n",
              "      <th>Cement</th>\n",
              "      <th>Gas Flaring</th>\n",
              "      <th>Per Capita</th>\n",
              "    </tr>\n",
              "  </thead>\n",
              "  <tbody>\n",
              "    <tr>\n",
              "      <th>0</th>\n",
              "      <td>1751</td>\n",
              "      <td>3</td>\n",
              "      <td>0</td>\n",
              "      <td>0</td>\n",
              "      <td>3</td>\n",
              "      <td>0</td>\n",
              "      <td>0</td>\n",
              "      <td>NaN</td>\n",
              "    </tr>\n",
              "    <tr>\n",
              "      <th>1</th>\n",
              "      <td>1752</td>\n",
              "      <td>3</td>\n",
              "      <td>0</td>\n",
              "      <td>0</td>\n",
              "      <td>3</td>\n",
              "      <td>0</td>\n",
              "      <td>0</td>\n",
              "      <td>NaN</td>\n",
              "    </tr>\n",
              "    <tr>\n",
              "      <th>2</th>\n",
              "      <td>1753</td>\n",
              "      <td>3</td>\n",
              "      <td>0</td>\n",
              "      <td>0</td>\n",
              "      <td>3</td>\n",
              "      <td>0</td>\n",
              "      <td>0</td>\n",
              "      <td>NaN</td>\n",
              "    </tr>\n",
              "    <tr>\n",
              "      <th>3</th>\n",
              "      <td>1754</td>\n",
              "      <td>3</td>\n",
              "      <td>0</td>\n",
              "      <td>0</td>\n",
              "      <td>3</td>\n",
              "      <td>0</td>\n",
              "      <td>0</td>\n",
              "      <td>NaN</td>\n",
              "    </tr>\n",
              "    <tr>\n",
              "      <th>4</th>\n",
              "      <td>1755</td>\n",
              "      <td>3</td>\n",
              "      <td>0</td>\n",
              "      <td>0</td>\n",
              "      <td>3</td>\n",
              "      <td>0</td>\n",
              "      <td>0</td>\n",
              "      <td>NaN</td>\n",
              "    </tr>\n",
              "    <tr>\n",
              "      <th>...</th>\n",
              "      <td>...</td>\n",
              "      <td>...</td>\n",
              "      <td>...</td>\n",
              "      <td>...</td>\n",
              "      <td>...</td>\n",
              "      <td>...</td>\n",
              "      <td>...</td>\n",
              "      <td>...</td>\n",
              "    </tr>\n",
              "    <tr>\n",
              "      <th>255</th>\n",
              "      <td>2006</td>\n",
              "      <td>8370</td>\n",
              "      <td>1525</td>\n",
              "      <td>3089</td>\n",
              "      <td>3339</td>\n",
              "      <td>356</td>\n",
              "      <td>61</td>\n",
              "      <td>1.27</td>\n",
              "    </tr>\n",
              "    <tr>\n",
              "      <th>256</th>\n",
              "      <td>2007</td>\n",
              "      <td>8566</td>\n",
              "      <td>1572</td>\n",
              "      <td>3081</td>\n",
              "      <td>3464</td>\n",
              "      <td>382</td>\n",
              "      <td>68</td>\n",
              "      <td>1.28</td>\n",
              "    </tr>\n",
              "    <tr>\n",
              "      <th>257</th>\n",
              "      <td>2008</td>\n",
              "      <td>8783</td>\n",
              "      <td>1631</td>\n",
              "      <td>3122</td>\n",
              "      <td>3571</td>\n",
              "      <td>388</td>\n",
              "      <td>71</td>\n",
              "      <td>1.30</td>\n",
              "    </tr>\n",
              "    <tr>\n",
              "      <th>258</th>\n",
              "      <td>2009</td>\n",
              "      <td>8740</td>\n",
              "      <td>1585</td>\n",
              "      <td>3056</td>\n",
              "      <td>3620</td>\n",
              "      <td>413</td>\n",
              "      <td>66</td>\n",
              "      <td>1.28</td>\n",
              "    </tr>\n",
              "    <tr>\n",
              "      <th>259</th>\n",
              "      <td>2010</td>\n",
              "      <td>9167</td>\n",
              "      <td>1702</td>\n",
              "      <td>3114</td>\n",
              "      <td>3842</td>\n",
              "      <td>450</td>\n",
              "      <td>59</td>\n",
              "      <td>1.33</td>\n",
              "    </tr>\n",
              "  </tbody>\n",
              "</table>\n",
              "<p>260 rows × 8 columns</p>\n",
              "</div>\n",
              "    <div class=\"colab-df-buttons\">\n",
              "\n",
              "  <div class=\"colab-df-container\">\n",
              "    <button class=\"colab-df-convert\" onclick=\"convertToInteractive('df-e286f72c-9c0b-4cfd-aa65-425b6d4d6ed5')\"\n",
              "            title=\"Convert this dataframe to an interactive table.\"\n",
              "            style=\"display:none;\">\n",
              "\n",
              "  <svg xmlns=\"http://www.w3.org/2000/svg\" height=\"24px\" viewBox=\"0 -960 960 960\">\n",
              "    <path d=\"M120-120v-720h720v720H120Zm60-500h600v-160H180v160Zm220 220h160v-160H400v160Zm0 220h160v-160H400v160ZM180-400h160v-160H180v160Zm440 0h160v-160H620v160ZM180-180h160v-160H180v160Zm440 0h160v-160H620v160Z\"/>\n",
              "  </svg>\n",
              "    </button>\n",
              "\n",
              "  <style>\n",
              "    .colab-df-container {\n",
              "      display:flex;\n",
              "      gap: 12px;\n",
              "    }\n",
              "\n",
              "    .colab-df-convert {\n",
              "      background-color: #E8F0FE;\n",
              "      border: none;\n",
              "      border-radius: 50%;\n",
              "      cursor: pointer;\n",
              "      display: none;\n",
              "      fill: #1967D2;\n",
              "      height: 32px;\n",
              "      padding: 0 0 0 0;\n",
              "      width: 32px;\n",
              "    }\n",
              "\n",
              "    .colab-df-convert:hover {\n",
              "      background-color: #E2EBFA;\n",
              "      box-shadow: 0px 1px 2px rgba(60, 64, 67, 0.3), 0px 1px 3px 1px rgba(60, 64, 67, 0.15);\n",
              "      fill: #174EA6;\n",
              "    }\n",
              "\n",
              "    .colab-df-buttons div {\n",
              "      margin-bottom: 4px;\n",
              "    }\n",
              "\n",
              "    [theme=dark] .colab-df-convert {\n",
              "      background-color: #3B4455;\n",
              "      fill: #D2E3FC;\n",
              "    }\n",
              "\n",
              "    [theme=dark] .colab-df-convert:hover {\n",
              "      background-color: #434B5C;\n",
              "      box-shadow: 0px 1px 3px 1px rgba(0, 0, 0, 0.15);\n",
              "      filter: drop-shadow(0px 1px 2px rgba(0, 0, 0, 0.3));\n",
              "      fill: #FFFFFF;\n",
              "    }\n",
              "  </style>\n",
              "\n",
              "    <script>\n",
              "      const buttonEl =\n",
              "        document.querySelector('#df-e286f72c-9c0b-4cfd-aa65-425b6d4d6ed5 button.colab-df-convert');\n",
              "      buttonEl.style.display =\n",
              "        google.colab.kernel.accessAllowed ? 'block' : 'none';\n",
              "\n",
              "      async function convertToInteractive(key) {\n",
              "        const element = document.querySelector('#df-e286f72c-9c0b-4cfd-aa65-425b6d4d6ed5');\n",
              "        const dataTable =\n",
              "          await google.colab.kernel.invokeFunction('convertToInteractive',\n",
              "                                                    [key], {});\n",
              "        if (!dataTable) return;\n",
              "\n",
              "        const docLinkHtml = 'Like what you see? Visit the ' +\n",
              "          '<a target=\"_blank\" href=https://colab.research.google.com/notebooks/data_table.ipynb>data table notebook</a>'\n",
              "          + ' to learn more about interactive tables.';\n",
              "        element.innerHTML = '';\n",
              "        dataTable['output_type'] = 'display_data';\n",
              "        await google.colab.output.renderOutput(dataTable, element);\n",
              "        const docLink = document.createElement('div');\n",
              "        docLink.innerHTML = docLinkHtml;\n",
              "        element.appendChild(docLink);\n",
              "      }\n",
              "    </script>\n",
              "  </div>\n",
              "\n",
              "\n",
              "<div id=\"df-04edc8d7-8739-4a98-8894-749d85c6943f\">\n",
              "  <button class=\"colab-df-quickchart\" onclick=\"quickchart('df-04edc8d7-8739-4a98-8894-749d85c6943f')\"\n",
              "            title=\"Suggest charts\"\n",
              "            style=\"display:none;\">\n",
              "\n",
              "<svg xmlns=\"http://www.w3.org/2000/svg\" height=\"24px\"viewBox=\"0 0 24 24\"\n",
              "     width=\"24px\">\n",
              "    <g>\n",
              "        <path d=\"M19 3H5c-1.1 0-2 .9-2 2v14c0 1.1.9 2 2 2h14c1.1 0 2-.9 2-2V5c0-1.1-.9-2-2-2zM9 17H7v-7h2v7zm4 0h-2V7h2v10zm4 0h-2v-4h2v4z\"/>\n",
              "    </g>\n",
              "</svg>\n",
              "  </button>\n",
              "\n",
              "<style>\n",
              "  .colab-df-quickchart {\n",
              "      --bg-color: #E8F0FE;\n",
              "      --fill-color: #1967D2;\n",
              "      --hover-bg-color: #E2EBFA;\n",
              "      --hover-fill-color: #174EA6;\n",
              "      --disabled-fill-color: #AAA;\n",
              "      --disabled-bg-color: #DDD;\n",
              "  }\n",
              "\n",
              "  [theme=dark] .colab-df-quickchart {\n",
              "      --bg-color: #3B4455;\n",
              "      --fill-color: #D2E3FC;\n",
              "      --hover-bg-color: #434B5C;\n",
              "      --hover-fill-color: #FFFFFF;\n",
              "      --disabled-bg-color: #3B4455;\n",
              "      --disabled-fill-color: #666;\n",
              "  }\n",
              "\n",
              "  .colab-df-quickchart {\n",
              "    background-color: var(--bg-color);\n",
              "    border: none;\n",
              "    border-radius: 50%;\n",
              "    cursor: pointer;\n",
              "    display: none;\n",
              "    fill: var(--fill-color);\n",
              "    height: 32px;\n",
              "    padding: 0;\n",
              "    width: 32px;\n",
              "  }\n",
              "\n",
              "  .colab-df-quickchart:hover {\n",
              "    background-color: var(--hover-bg-color);\n",
              "    box-shadow: 0 1px 2px rgba(60, 64, 67, 0.3), 0 1px 3px 1px rgba(60, 64, 67, 0.15);\n",
              "    fill: var(--button-hover-fill-color);\n",
              "  }\n",
              "\n",
              "  .colab-df-quickchart-complete:disabled,\n",
              "  .colab-df-quickchart-complete:disabled:hover {\n",
              "    background-color: var(--disabled-bg-color);\n",
              "    fill: var(--disabled-fill-color);\n",
              "    box-shadow: none;\n",
              "  }\n",
              "\n",
              "  .colab-df-spinner {\n",
              "    border: 2px solid var(--fill-color);\n",
              "    border-color: transparent;\n",
              "    border-bottom-color: var(--fill-color);\n",
              "    animation:\n",
              "      spin 1s steps(1) infinite;\n",
              "  }\n",
              "\n",
              "  @keyframes spin {\n",
              "    0% {\n",
              "      border-color: transparent;\n",
              "      border-bottom-color: var(--fill-color);\n",
              "      border-left-color: var(--fill-color);\n",
              "    }\n",
              "    20% {\n",
              "      border-color: transparent;\n",
              "      border-left-color: var(--fill-color);\n",
              "      border-top-color: var(--fill-color);\n",
              "    }\n",
              "    30% {\n",
              "      border-color: transparent;\n",
              "      border-left-color: var(--fill-color);\n",
              "      border-top-color: var(--fill-color);\n",
              "      border-right-color: var(--fill-color);\n",
              "    }\n",
              "    40% {\n",
              "      border-color: transparent;\n",
              "      border-right-color: var(--fill-color);\n",
              "      border-top-color: var(--fill-color);\n",
              "    }\n",
              "    60% {\n",
              "      border-color: transparent;\n",
              "      border-right-color: var(--fill-color);\n",
              "    }\n",
              "    80% {\n",
              "      border-color: transparent;\n",
              "      border-right-color: var(--fill-color);\n",
              "      border-bottom-color: var(--fill-color);\n",
              "    }\n",
              "    90% {\n",
              "      border-color: transparent;\n",
              "      border-bottom-color: var(--fill-color);\n",
              "    }\n",
              "  }\n",
              "</style>\n",
              "\n",
              "  <script>\n",
              "    async function quickchart(key) {\n",
              "      const quickchartButtonEl =\n",
              "        document.querySelector('#' + key + ' button');\n",
              "      quickchartButtonEl.disabled = true;  // To prevent multiple clicks.\n",
              "      quickchartButtonEl.classList.add('colab-df-spinner');\n",
              "      try {\n",
              "        const charts = await google.colab.kernel.invokeFunction(\n",
              "            'suggestCharts', [key], {});\n",
              "      } catch (error) {\n",
              "        console.error('Error during call to suggestCharts:', error);\n",
              "      }\n",
              "      quickchartButtonEl.classList.remove('colab-df-spinner');\n",
              "      quickchartButtonEl.classList.add('colab-df-quickchart-complete');\n",
              "    }\n",
              "    (() => {\n",
              "      let quickchartButtonEl =\n",
              "        document.querySelector('#df-04edc8d7-8739-4a98-8894-749d85c6943f button');\n",
              "      quickchartButtonEl.style.display =\n",
              "        google.colab.kernel.accessAllowed ? 'block' : 'none';\n",
              "    })();\n",
              "  </script>\n",
              "</div>\n",
              "\n",
              "  <div id=\"id_9adfed6b-6826-4e29-afb0-af3746f04158\">\n",
              "    <style>\n",
              "      .colab-df-generate {\n",
              "        background-color: #E8F0FE;\n",
              "        border: none;\n",
              "        border-radius: 50%;\n",
              "        cursor: pointer;\n",
              "        display: none;\n",
              "        fill: #1967D2;\n",
              "        height: 32px;\n",
              "        padding: 0 0 0 0;\n",
              "        width: 32px;\n",
              "      }\n",
              "\n",
              "      .colab-df-generate:hover {\n",
              "        background-color: #E2EBFA;\n",
              "        box-shadow: 0px 1px 2px rgba(60, 64, 67, 0.3), 0px 1px 3px 1px rgba(60, 64, 67, 0.15);\n",
              "        fill: #174EA6;\n",
              "      }\n",
              "\n",
              "      [theme=dark] .colab-df-generate {\n",
              "        background-color: #3B4455;\n",
              "        fill: #D2E3FC;\n",
              "      }\n",
              "\n",
              "      [theme=dark] .colab-df-generate:hover {\n",
              "        background-color: #434B5C;\n",
              "        box-shadow: 0px 1px 3px 1px rgba(0, 0, 0, 0.15);\n",
              "        filter: drop-shadow(0px 1px 2px rgba(0, 0, 0, 0.3));\n",
              "        fill: #FFFFFF;\n",
              "      }\n",
              "    </style>\n",
              "    <button class=\"colab-df-generate\" onclick=\"generateWithVariable('dataset')\"\n",
              "            title=\"Generate code using this dataframe.\"\n",
              "            style=\"display:none;\">\n",
              "\n",
              "  <svg xmlns=\"http://www.w3.org/2000/svg\" height=\"24px\"viewBox=\"0 0 24 24\"\n",
              "       width=\"24px\">\n",
              "    <path d=\"M7,19H8.4L18.45,9,17,7.55,7,17.6ZM5,21V16.75L18.45,3.32a2,2,0,0,1,2.83,0l1.4,1.43a1.91,1.91,0,0,1,.58,1.4,1.91,1.91,0,0,1-.58,1.4L9.25,21ZM18.45,9,17,7.55Zm-12,3A5.31,5.31,0,0,0,4.9,8.1,5.31,5.31,0,0,0,1,6.5,5.31,5.31,0,0,0,4.9,4.9,5.31,5.31,0,0,0,6.5,1,5.31,5.31,0,0,0,8.1,4.9,5.31,5.31,0,0,0,12,6.5,5.46,5.46,0,0,0,6.5,12Z\"/>\n",
              "  </svg>\n",
              "    </button>\n",
              "    <script>\n",
              "      (() => {\n",
              "      const buttonEl =\n",
              "        document.querySelector('#id_9adfed6b-6826-4e29-afb0-af3746f04158 button.colab-df-generate');\n",
              "      buttonEl.style.display =\n",
              "        google.colab.kernel.accessAllowed ? 'block' : 'none';\n",
              "\n",
              "      buttonEl.onclick = () => {\n",
              "        google.colab.notebook.generateWithVariable('dataset');\n",
              "      }\n",
              "      })();\n",
              "    </script>\n",
              "  </div>\n",
              "\n",
              "    </div>\n",
              "  </div>\n"
            ],
            "application/vnd.google.colaboratory.intrinsic+json": {
              "type": "dataframe",
              "variable_name": "dataset",
              "summary": "{\n  \"name\": \"dataset\",\n  \"rows\": 260,\n  \"fields\": [\n    {\n      \"column\": \"Year\",\n      \"properties\": {\n        \"dtype\": \"number\",\n        \"std\": 75,\n        \"min\": 1751,\n        \"max\": 2010,\n        \"num_unique_values\": 260,\n        \"samples\": [\n          1781,\n          1932,\n          1974\n        ],\n        \"semantic_type\": \"\",\n        \"description\": \"\"\n      }\n    },\n    {\n      \"column\": \"Total\",\n      \"properties\": {\n        \"dtype\": \"number\",\n        \"std\": 2253,\n        \"min\": 3,\n        \"max\": 9167,\n        \"num_unique_values\": 190,\n        \"samples\": [\n          6542,\n          6927,\n          847\n        ],\n        \"semantic_type\": \"\",\n        \"description\": \"\"\n      }\n    },\n    {\n      \"column\": \"Gas Fuel\",\n      \"properties\": {\n        \"dtype\": \"number\",\n        \"std\": 396,\n        \"min\": 0,\n        \"max\": 1702,\n        \"num_unique_values\": 94,\n        \"samples\": [\n          161,\n          34,\n          530\n        ],\n        \"semantic_type\": \"\",\n        \"description\": \"\"\n      }\n    },\n    {\n      \"column\": \"Liquid Fuel\",\n      \"properties\": {\n        \"dtype\": \"number\",\n        \"std\": 934,\n        \"min\": 0,\n        \"max\": 3122,\n        \"num_unique_values\": 121,\n        \"samples\": [\n          141,\n          176,\n          4\n        ],\n        \"semantic_type\": \"\",\n        \"description\": \"\"\n      }\n    },\n    {\n      \"column\": \"Solid Fuel\",\n      \"properties\": {\n        \"dtype\": \"number\",\n        \"std\": 868,\n        \"min\": 3,\n        \"max\": 3842,\n        \"num_unique_values\": 188,\n        \"samples\": [\n          3339,\n          2237,\n          25\n        ],\n        \"semantic_type\": \"\",\n        \"description\": \"\"\n      }\n    },\n    {\n      \"column\": \"Cement\",\n      \"properties\": {\n        \"dtype\": \"number\",\n        \"std\": 78,\n        \"min\": 0,\n        \"max\": 450,\n        \"num_unique_values\": 68,\n        \"samples\": [\n          152,\n          32,\n          9\n        ],\n        \"semantic_type\": \"\",\n        \"description\": \"\"\n      }\n    },\n    {\n      \"column\": \"Gas Flaring\",\n      \"properties\": {\n        \"dtype\": \"number\",\n        \"std\": 26,\n        \"min\": 0,\n        \"max\": 110,\n        \"num_unique_values\": 47,\n        \"samples\": [\n          106,\n          33,\n          104\n        ],\n        \"semantic_type\": \"\",\n        \"description\": \"\"\n      }\n    },\n    {\n      \"column\": \"Per Capita\",\n      \"properties\": {\n        \"dtype\": \"number\",\n        \"std\": 0.17863003253817697,\n        \"min\": 0.64,\n        \"max\": 1.33,\n        \"num_unique_values\": 37,\n        \"samples\": [\n          1.05,\n          0.94,\n          0.77\n        ],\n        \"semantic_type\": \"\",\n        \"description\": \"\"\n      }\n    }\n  ]\n}"
            }
          },
          "metadata": {},
          "execution_count": 2
        }
      ]
    },
    {
      "cell_type": "code",
      "source": [
        "X= dataset.iloc[219:,:1].values\n",
        "y = dataset.iloc[219:,-1].values"
      ],
      "metadata": {
        "id": "24llf6fq3iCI"
      },
      "execution_count": 3,
      "outputs": []
    },
    {
      "cell_type": "code",
      "source": [
        "X"
      ],
      "metadata": {
        "colab": {
          "base_uri": "https://localhost:8080/"
        },
        "id": "zFIlzvjHhQAX",
        "outputId": "a2048e23-273f-43b6-c6d8-913c2861a964"
      },
      "execution_count": null,
      "outputs": [
        {
          "output_type": "execute_result",
          "data": {
            "text/plain": [
              "array([[1970],\n",
              "       [1971],\n",
              "       [1972],\n",
              "       [1973],\n",
              "       [1974],\n",
              "       [1975],\n",
              "       [1976],\n",
              "       [1977],\n",
              "       [1978],\n",
              "       [1979],\n",
              "       [1980],\n",
              "       [1981],\n",
              "       [1982],\n",
              "       [1983],\n",
              "       [1984],\n",
              "       [1985],\n",
              "       [1986],\n",
              "       [1987],\n",
              "       [1988],\n",
              "       [1989],\n",
              "       [1990],\n",
              "       [1991],\n",
              "       [1992],\n",
              "       [1993],\n",
              "       [1994],\n",
              "       [1995],\n",
              "       [1996],\n",
              "       [1997],\n",
              "       [1998],\n",
              "       [1999],\n",
              "       [2000],\n",
              "       [2001],\n",
              "       [2002],\n",
              "       [2003],\n",
              "       [2004],\n",
              "       [2005],\n",
              "       [2006],\n",
              "       [2007],\n",
              "       [2008],\n",
              "       [2009],\n",
              "       [2010]])"
            ]
          },
          "metadata": {},
          "execution_count": 7
        }
      ]
    },
    {
      "cell_type": "code",
      "source": [
        "y"
      ],
      "metadata": {
        "colab": {
          "base_uri": "https://localhost:8080/"
        },
        "id": "d2PDRP4jheXQ",
        "outputId": "9e384f92-e64f-457b-a327-03d4d25d866a"
      },
      "execution_count": null,
      "outputs": [
        {
          "output_type": "execute_result",
          "data": {
            "text/plain": [
              "array([1.1 , 1.12, 1.14, 1.18, 1.16, 1.13, 1.18, 1.19, 1.19, 1.23, 1.2 ,\n",
              "       1.14, 1.11, 1.09, 1.11, 1.12, 1.14, 1.15, 1.17, 1.17, 1.16, 1.16,\n",
              "       1.13, 1.11, 1.11, 1.12, 1.13, 1.13, 1.12, 1.1 , 1.11, 1.12, 1.12,\n",
              "       1.17, 1.21, 1.24, 1.27, 1.28, 1.3 , 1.28, 1.33])"
            ]
          },
          "metadata": {},
          "execution_count": 8
        }
      ]
    },
    {
      "cell_type": "markdown",
      "metadata": {
        "id": "Le8SEL-YEOLb"
      },
      "source": [
        "## Training the Linear Regression model on the whole dataset"
      ]
    },
    {
      "cell_type": "code",
      "execution_count": 4,
      "metadata": {
        "colab": {
          "base_uri": "https://localhost:8080/",
          "height": 75
        },
        "id": "2eZ4xxbKEcBk",
        "outputId": "a52a813d-0751-49d2-a398-0cbaf793394d"
      },
      "outputs": [
        {
          "output_type": "execute_result",
          "data": {
            "text/plain": [
              "LinearRegression()"
            ],
            "text/html": [
              "<style>#sk-container-id-1 {color: black;background-color: white;}#sk-container-id-1 pre{padding: 0;}#sk-container-id-1 div.sk-toggleable {background-color: white;}#sk-container-id-1 label.sk-toggleable__label {cursor: pointer;display: block;width: 100%;margin-bottom: 0;padding: 0.3em;box-sizing: border-box;text-align: center;}#sk-container-id-1 label.sk-toggleable__label-arrow:before {content: \"▸\";float: left;margin-right: 0.25em;color: #696969;}#sk-container-id-1 label.sk-toggleable__label-arrow:hover:before {color: black;}#sk-container-id-1 div.sk-estimator:hover label.sk-toggleable__label-arrow:before {color: black;}#sk-container-id-1 div.sk-toggleable__content {max-height: 0;max-width: 0;overflow: hidden;text-align: left;background-color: #f0f8ff;}#sk-container-id-1 div.sk-toggleable__content pre {margin: 0.2em;color: black;border-radius: 0.25em;background-color: #f0f8ff;}#sk-container-id-1 input.sk-toggleable__control:checked~div.sk-toggleable__content {max-height: 200px;max-width: 100%;overflow: auto;}#sk-container-id-1 input.sk-toggleable__control:checked~label.sk-toggleable__label-arrow:before {content: \"▾\";}#sk-container-id-1 div.sk-estimator input.sk-toggleable__control:checked~label.sk-toggleable__label {background-color: #d4ebff;}#sk-container-id-1 div.sk-label input.sk-toggleable__control:checked~label.sk-toggleable__label {background-color: #d4ebff;}#sk-container-id-1 input.sk-hidden--visually {border: 0;clip: rect(1px 1px 1px 1px);clip: rect(1px, 1px, 1px, 1px);height: 1px;margin: -1px;overflow: hidden;padding: 0;position: absolute;width: 1px;}#sk-container-id-1 div.sk-estimator {font-family: monospace;background-color: #f0f8ff;border: 1px dotted black;border-radius: 0.25em;box-sizing: border-box;margin-bottom: 0.5em;}#sk-container-id-1 div.sk-estimator:hover {background-color: #d4ebff;}#sk-container-id-1 div.sk-parallel-item::after {content: \"\";width: 100%;border-bottom: 1px solid gray;flex-grow: 1;}#sk-container-id-1 div.sk-label:hover label.sk-toggleable__label {background-color: #d4ebff;}#sk-container-id-1 div.sk-serial::before {content: \"\";position: absolute;border-left: 1px solid gray;box-sizing: border-box;top: 0;bottom: 0;left: 50%;z-index: 0;}#sk-container-id-1 div.sk-serial {display: flex;flex-direction: column;align-items: center;background-color: white;padding-right: 0.2em;padding-left: 0.2em;position: relative;}#sk-container-id-1 div.sk-item {position: relative;z-index: 1;}#sk-container-id-1 div.sk-parallel {display: flex;align-items: stretch;justify-content: center;background-color: white;position: relative;}#sk-container-id-1 div.sk-item::before, #sk-container-id-1 div.sk-parallel-item::before {content: \"\";position: absolute;border-left: 1px solid gray;box-sizing: border-box;top: 0;bottom: 0;left: 50%;z-index: -1;}#sk-container-id-1 div.sk-parallel-item {display: flex;flex-direction: column;z-index: 1;position: relative;background-color: white;}#sk-container-id-1 div.sk-parallel-item:first-child::after {align-self: flex-end;width: 50%;}#sk-container-id-1 div.sk-parallel-item:last-child::after {align-self: flex-start;width: 50%;}#sk-container-id-1 div.sk-parallel-item:only-child::after {width: 0;}#sk-container-id-1 div.sk-dashed-wrapped {border: 1px dashed gray;margin: 0 0.4em 0.5em 0.4em;box-sizing: border-box;padding-bottom: 0.4em;background-color: white;}#sk-container-id-1 div.sk-label label {font-family: monospace;font-weight: bold;display: inline-block;line-height: 1.2em;}#sk-container-id-1 div.sk-label-container {text-align: center;}#sk-container-id-1 div.sk-container {/* jupyter's `normalize.less` sets `[hidden] { display: none; }` but bootstrap.min.css set `[hidden] { display: none !important; }` so we also need the `!important` here to be able to override the default hidden behavior on the sphinx rendered scikit-learn.org. See: https://github.com/scikit-learn/scikit-learn/issues/21755 */display: inline-block !important;position: relative;}#sk-container-id-1 div.sk-text-repr-fallback {display: none;}</style><div id=\"sk-container-id-1\" class=\"sk-top-container\"><div class=\"sk-text-repr-fallback\"><pre>LinearRegression()</pre><b>In a Jupyter environment, please rerun this cell to show the HTML representation or trust the notebook. <br />On GitHub, the HTML representation is unable to render, please try loading this page with nbviewer.org.</b></div><div class=\"sk-container\" hidden><div class=\"sk-item\"><div class=\"sk-estimator sk-toggleable\"><input class=\"sk-toggleable__control sk-hidden--visually\" id=\"sk-estimator-id-1\" type=\"checkbox\" checked><label for=\"sk-estimator-id-1\" class=\"sk-toggleable__label sk-toggleable__label-arrow\">LinearRegression</label><div class=\"sk-toggleable__content\"><pre>LinearRegression()</pre></div></div></div></div></div>"
            ]
          },
          "metadata": {},
          "execution_count": 4
        }
      ],
      "source": [
        "from sklearn.linear_model import LinearRegression\n",
        "lin_reg = LinearRegression()\n",
        "lin_reg.fit(X, y)"
      ]
    },
    {
      "cell_type": "markdown",
      "metadata": {
        "id": "0O8R0tzbEpvy"
      },
      "source": [
        "## Visualising the Linear Regression results"
      ]
    },
    {
      "cell_type": "code",
      "execution_count": null,
      "metadata": {
        "colab": {
          "base_uri": "https://localhost:8080/",
          "height": 472
        },
        "id": "dcTIBAEdEyve",
        "outputId": "8ff56f16-aa8f-4a94-82e3-9f10301c6712"
      },
      "outputs": [
        {
          "output_type": "display_data",
          "data": {
            "text/plain": [
              "<Figure size 640x480 with 1 Axes>"
            ],
            "image/png": "[encoded data removed]"
          },
          "metadata": {}
        }
      ],
      "source": [
        "plt.scatter(X, y, color = 'red')\n",
        "plt.plot(X, lin_reg.predict(X), color = 'blue')\n",
        "plt.title('production of CO2 (Linear Regression)')\n",
        "plt.xlabel('Year')\n",
        "plt.ylabel('percapta')\n",
        "plt.show()"
      ]
    },
    {
      "cell_type": "markdown",
      "metadata": {
        "id": "Rb5nWuSHEfBV"
      },
      "source": [
        "## Training the Polynomial Regression model on the whole dataset"
      ]
    },
    {
      "cell_type": "code",
      "execution_count": 6,
      "metadata": {
        "id": "HYplp4pTEm0O",
        "colab": {
          "base_uri": "https://localhost:8080/"
        },
        "outputId": "64fea97e-89f1-459b-d424-11c305d59a1d",
        "collapsed": true
      },
      "outputs": [
        {
          "output_type": "execute_result",
          "data": {
            "text/plain": [
              "array([[1.00000000e+00, 1.97000000e+03, 3.88090000e+06, 7.64537300e+09,\n",
              "        1.50613848e+13, 2.96709281e+16, 5.84517283e+19, 1.15149905e+23,\n",
              "        2.26845312e+26],\n",
              "       [1.00000000e+00, 1.97100000e+03, 3.88484100e+06, 7.65702161e+09,\n",
              "        1.50919896e+13, 2.97463115e+16, 5.86299800e+19, 1.15559690e+23,\n",
              "        2.27768150e+26],\n",
              "       [1.00000000e+00, 1.97200000e+03, 3.88878400e+06, 7.66868205e+09,\n",
              "        1.51226410e+13, 2.98218480e+16, 5.88086844e+19, 1.15970726e+23,\n",
              "        2.28694271e+26],\n",
              "       [1.00000000e+00, 1.97300000e+03, 3.89272900e+06, 7.68035432e+09,\n",
              "        1.51533391e+13, 2.98975380e+16, 5.89878424e+19, 1.16383013e+23,\n",
              "        2.29623685e+26],\n",
              "       [1.00000000e+00, 1.97400000e+03, 3.89667600e+06, 7.69203842e+09,\n",
              "        1.51840838e+13, 2.99733815e+16, 5.91674551e+19, 1.16796556e+23,\n",
              "        2.30556402e+26],\n",
              "       [1.00000000e+00, 1.97500000e+03, 3.90062500e+06, 7.70373438e+09,\n",
              "        1.52148754e+13, 3.00493789e+16, 5.93475233e+19, 1.17211359e+23,\n",
              "        2.31492433e+26],\n",
              "       [1.00000000e+00, 1.97600000e+03, 3.90457600e+06, 7.71544218e+09,\n",
              "        1.52457137e+13, 3.01255303e+16, 5.95280480e+19, 1.17627423e+23,\n",
              "        2.32431787e+26],\n",
              "       [1.00000000e+00, 1.97700000e+03, 3.90852900e+06, 7.72716183e+09,\n",
              "        1.52765989e+13, 3.02018361e+16, 5.97090300e+19, 1.18044752e+23,\n",
              "        2.33374475e+26],\n",
              "       [1.00000000e+00, 1.97800000e+03, 3.91248400e+06, 7.73889335e+09,\n",
              "        1.53075311e+13, 3.02782964e+16, 5.98904703e+19, 1.18463350e+23,\n",
              "        2.34320507e+26],\n",
              "       [1.00000000e+00, 1.97900000e+03, 3.91644100e+06, 7.75063674e+09,\n",
              "        1.53385101e+13, 3.03549115e+16, 6.00723699e+19, 1.18883220e+23,\n",
              "        2.35269892e+26],\n",
              "       [1.00000000e+00, 1.98000000e+03, 3.92040000e+06, 7.76239200e+09,\n",
              "        1.53695362e+13, 3.04316816e+16, 6.02547296e+19, 1.19304365e+23,\n",
              "        2.36222642e+26],\n",
              "       [1.00000000e+00, 1.98100000e+03, 3.92436100e+06, 7.77415914e+09,\n",
              "        1.54006093e+13, 3.05086069e+16, 6.04375503e+19, 1.19726787e+23,\n",
              "        2.37178766e+26],\n",
              "       [1.00000000e+00, 1.98200000e+03, 3.92832400e+06, 7.78593817e+09,\n",
              "        1.54317294e+13, 3.05856878e+16, 6.06208332e+19, 1.20150491e+23,\n",
              "        2.38138274e+26],\n",
              "       [1.00000000e+00, 1.98300000e+03, 3.93228900e+06, 7.79772909e+09,\n",
              "        1.54628968e+13, 3.06629243e+16, 6.08045789e+19, 1.20575480e+23,\n",
              "        2.39101177e+26],\n",
              "       [1.00000000e+00, 1.98400000e+03, 3.93625600e+06, 7.80953190e+09,\n",
              "        1.54941113e+13, 3.07403168e+16, 6.09887886e+19, 1.21001757e+23,\n",
              "        2.40067485e+26],\n",
              "       [1.00000000e+00, 1.98500000e+03, 3.94022500e+06, 7.82134662e+09,\n",
              "        1.55253731e+13, 3.08178655e+16, 6.11734630e+19, 1.21429324e+23,\n",
              "        2.41037208e+26],\n",
              "       [1.00000000e+00, 1.98600000e+03, 3.94419600e+06, 7.83317326e+09,\n",
              "        1.55566821e+13, 3.08955706e+16, 6.13586033e+19, 1.21858186e+23,\n",
              "        2.42010358e+26],\n",
              "       [1.00000000e+00, 1.98700000e+03, 3.94816900e+06, 7.84501180e+09,\n",
              "        1.55880385e+13, 3.09734324e+16, 6.15442102e+19, 1.22288346e+23,\n",
              "        2.42986943e+26],\n",
              "       [1.00000000e+00, 1.98800000e+03, 3.95214400e+06, 7.85686227e+09,\n",
              "        1.56194422e+13, 3.10514511e+16, 6.17302848e+19, 1.22719806e+23,\n",
              "        2.43966975e+26],\n",
              "       [1.00000000e+00, 1.98900000e+03, 3.95612100e+06, 7.86872467e+09,\n",
              "        1.56508934e+13, 3.11296269e+16, 6.19168279e+19, 1.23152571e+23,\n",
              "        2.44950463e+26],\n",
              "       [1.00000000e+00, 1.99000000e+03, 3.96010000e+06, 7.88059900e+09,\n",
              "        1.56823920e+13, 3.12079601e+16, 6.21038406e+19, 1.23586643e+23,\n",
              "        2.45937419e+26],\n",
              "       [1.00000000e+00, 1.99100000e+03, 3.96408100e+06, 7.89248527e+09,\n",
              "        1.57139382e+13, 3.12864509e+16, 6.22913238e+19, 1.24022026e+23,\n",
              "        2.46927853e+26],\n",
              "       [1.00000000e+00, 1.99200000e+03, 3.96806400e+06, 7.90438349e+09,\n",
              "        1.57455319e+13, 3.13650996e+16, 6.24792783e+19, 1.24458722e+23,\n",
              "        2.47921775e+26],\n",
              "       [1.00000000e+00, 1.99300000e+03, 3.97204900e+06, 7.91629366e+09,\n",
              "        1.57771733e+13, 3.14439063e+16, 6.26677053e+19, 1.24896737e+23,\n",
              "        2.48919196e+26],\n",
              "       [1.00000000e+00, 1.99400000e+03, 3.97603600e+06, 7.92821578e+09,\n",
              "        1.58088623e+13, 3.15228714e+16, 6.28566055e+19, 1.25336071e+23,\n",
              "        2.49920126e+26],\n",
              "       [1.00000000e+00, 1.99500000e+03, 3.98002500e+06, 7.94014988e+09,\n",
              "        1.58405990e+13, 3.16019950e+16, 6.30459800e+19, 1.25776730e+23,\n",
              "        2.50924577e+26],\n",
              "       [1.00000000e+00, 1.99600000e+03, 3.98401600e+06, 7.95209594e+09,\n",
              "        1.58723835e+13, 3.16812774e+16, 6.32358298e+19, 1.26218716e+23,\n",
              "        2.51932558e+26],\n",
              "       [1.00000000e+00, 1.99700000e+03, 3.98800900e+06, 7.96405397e+09,\n",
              "        1.59042158e+13, 3.17607189e+16, 6.34261557e+19, 1.26662033e+23,\n",
              "        2.52944080e+26],\n",
              "       [1.00000000e+00, 1.99800000e+03, 3.99200400e+06, 7.97602399e+09,\n",
              "        1.59360959e+13, 3.18403197e+16, 6.36169587e+19, 1.27106684e+23,\n",
              "        2.53959154e+26],\n",
              "       [1.00000000e+00, 1.99900000e+03, 3.99600100e+06, 7.98800600e+09,\n",
              "        1.59680240e+13, 3.19200800e+16, 6.38082398e+19, 1.27552671e+23,\n",
              "        2.54977790e+26],\n",
              "       [1.00000000e+00, 2.00000000e+03, 4.00000000e+06, 8.00000000e+09,\n",
              "        1.60000000e+13, 3.20000000e+16, 6.40000000e+19, 1.28000000e+23,\n",
              "        2.56000000e+26],\n",
              "       [1.00000000e+00, 2.00100000e+03, 4.00400100e+06, 8.01200600e+09,\n",
              "        1.60320240e+13, 3.20800800e+16, 6.41922402e+19, 1.28448673e+23,\n",
              "        2.57025794e+26],\n",
              "       [1.00000000e+00, 2.00200000e+03, 4.00800400e+06, 8.02402401e+09,\n",
              "        1.60640961e+13, 3.21603203e+16, 6.43849613e+19, 1.28898692e+23,\n",
              "        2.58055182e+26],\n",
              "       [1.00000000e+00, 2.00300000e+03, 4.01200900e+06, 8.03605403e+09,\n",
              "        1.60962162e+13, 3.22407211e+16, 6.45781643e+19, 1.29350063e+23,\n",
              "        2.59088176e+26],\n",
              "       [1.00000000e+00, 2.00400000e+03, 4.01601600e+06, 8.04809606e+09,\n",
              "        1.61283845e+13, 3.23212826e+16, 6.47718503e+19, 1.29802788e+23,\n",
              "        2.60124787e+26],\n",
              "       [1.00000000e+00, 2.00500000e+03, 4.02002500e+06, 8.06015012e+09,\n",
              "        1.61606010e+13, 3.24020050e+16, 6.49660200e+19, 1.30256870e+23,\n",
              "        2.61165025e+26],\n",
              "       [1.00000000e+00, 2.00600000e+03, 4.02403600e+06, 8.07221622e+09,\n",
              "        1.61928657e+13, 3.24828887e+16, 6.51606746e+19, 1.30712313e+23,\n",
              "        2.62208901e+26],\n",
              "       [1.00000000e+00, 2.00700000e+03, 4.02804900e+06, 8.08429434e+09,\n",
              "        1.62251787e+13, 3.25639337e+16, 6.53558150e+19, 1.31169121e+23,\n",
              "        2.63256425e+26],\n",
              "       [1.00000000e+00, 2.00800000e+03, 4.03206400e+06, 8.09638451e+09,\n",
              "        1.62575401e+13, 3.26451405e+16, 6.55514422e+19, 1.31627296e+23,\n",
              "        2.64307610e+26],\n",
              "       [1.00000000e+00, 2.00900000e+03, 4.03608100e+06, 8.10848673e+09,\n",
              "        1.62899498e+13, 3.27265092e+16, 6.57475570e+19, 1.32086842e+23,\n",
              "        2.65362466e+26],\n",
              "       [1.00000000e+00, 2.01000000e+03, 4.04010000e+06, 8.12060100e+09,\n",
              "        1.63224080e+13, 3.28080401e+16, 6.59441606e+19, 1.32547763e+23,\n",
              "        2.66421003e+26]])"
            ]
          },
          "metadata": {},
          "execution_count": 6
        }
      ],
      "source": [
        "from sklearn.preprocessing import PolynomialFeatures\n",
        "poly_reg = PolynomialFeatures(degree = 8)\n",
        "X_poly = poly_reg.fit_transform(X)\n",
        "lin_reg_2 = LinearRegression()\n",
        "lin_reg_2.fit(X_poly, y)\n",
        "X_poly"
      ]
    },
    {
      "cell_type": "markdown",
      "metadata": {
        "id": "stOnSo74E52m"
      },
      "source": [
        "## Visualising the Polynomial Regression results"
      ]
    },
    {
      "cell_type": "code",
      "execution_count": 7,
      "metadata": {
        "colab": {
          "base_uri": "https://localhost:8080/",
          "height": 472
        },
        "id": "UCOcurIQE7Zv",
        "outputId": "e5aed594-77b7-44d8-cc1e-0efc616d95d3"
      },
      "outputs": [
        {
          "output_type": "display_data",
          "data": {
            "text/plain": [
              "<Figure size 640x480 with 1 Axes>"
            ],
            "image/png": "[encoded data removed]"
          },
          "metadata": {}
        }
      ],
      "source": [
        "plt.scatter(X, y, color = 'red')\n",
        "plt.plot(X, lin_reg_2.predict(poly_reg.fit_transform(X)),\n",
        "         color = 'blue')\n",
        "plt.title('Production of CO2 (Polynomial Regression)')\n",
        "plt.xlabel('YEAR')\n",
        "plt.ylabel('Percaptia')\n",
        "plt.show()"
      ]
    },
    {
      "cell_type": "markdown",
      "metadata": {
        "id": "U_qsAMKnE-PJ"
      },
      "source": [
        "## Visualising the Polynomial Regression results (for higher resolution and smoother curve)"
      ]
    },
    {
      "cell_type": "code",
      "execution_count": null,
      "metadata": {
        "colab": {
          "base_uri": "https://localhost:8080/",
          "height": 527
        },
        "id": "iE6EnC3fFClE",
        "outputId": "f7fbcf1f-718d-4f1c-a963-b617adc62310"
      },
      "outputs": [
        {
          "output_type": "stream",
          "name": "stderr",
          "text": [
            "<ipython-input-11-96676e1a917f>:1: DeprecationWarning: Conversion of an array with ndim > 0 to a scalar is deprecated, and will error in future. Ensure you extract a single element from your array before performing this operation. (Deprecated NumPy 1.25.)\n",
            "  X_grid = np.arange(min(X), max(X), 1.25)\n"
          ]
        },
        {
          "output_type": "display_data",
          "data": {
            "text/plain": [
              "<Figure size 640x480 with 1 Axes>"
            ],
            "image/png": "[encoded data removed]"
          },
          "metadata": {}
        }
      ],
      "source": [
        "X_grid = np.arange(min(X), max(X), 0.1)\n",
        "X_grid = X_grid.reshape((len(X_grid), 1))\n",
        "plt.scatter(X, y, color = 'red')\n",
        "plt.plot(X_grid, lin_reg_2.predict(poly_reg.fit_transform(X_grid)), color = 'blue')\n",
        "plt.title('PRODUCTUION OF CO2 (Polynomial Regression)')\n",
        "plt.xlabel('YEAR')\n",
        "plt.ylabel('Percapt')\n",
        "plt.show()"
      ]
    },
    {
      "cell_type": "markdown",
      "metadata": {
        "id": "diyJFZHhFFeK"
      },
      "source": [
        "## Predicting a new result with Linear Regression"
      ]
    },
    {
      "cell_type": "code",
      "execution_count": null,
      "metadata": {
        "colab": {
          "base_uri": "https://localhost:8080/"
        },
        "id": "Blmp6Hn7FJW6",
        "outputId": "4e4dfadc-3633-44c1-a04a-6ca2633caaec"
      },
      "outputs": [
        {
          "output_type": "execute_result",
          "data": {
            "text/plain": [
              "array([1.21451045])"
            ]
          },
          "metadata": {},
          "execution_count": 9
        }
      ],
      "source": [
        "lin_reg.predict([[2013]])"
      ]
    },
    {
      "cell_type": "markdown",
      "metadata": {
        "id": "DW7I7ZVDFNkk"
      },
      "source": [
        "## Predicting a new result with Polynomial Regression"
      ]
    },
    {
      "cell_type": "code",
      "execution_count": null,
      "metadata": {
        "colab": {
          "base_uri": "https://localhost:8080/"
        },
        "id": "uQmtnyTHFRGG",
        "outputId": "1c09183c-6c14-4896-f787-c5f8e0e8d832"
      },
      "outputs": [
        {
          "output_type": "execute_result",
          "data": {
            "text/plain": [
              "array([1.47523985])"
            ]
          },
          "metadata": {},
          "execution_count": 10
        }
      ],
      "source": [
        "lin_reg_2.predict(poly_reg.fit_transform([[2013]]))"
      ]
    }
  ]
}